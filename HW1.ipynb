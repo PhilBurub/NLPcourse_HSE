{
 "cells": [
  {
   "cell_type": "markdown",
   "id": "5955cd24",
   "metadata": {},
   "source": [
    "NB! Повторно код я запускал только начиная с раздела 1.3, так как в 1.1 я написал краулер который довольно долго собирает данные (и в какой-то момент ломается), а в 1.2 я записываю результат его работы в json файл, который потом при перезапуске считываю в 1.3"
   ]
  },
  {
   "cell_type": "markdown",
   "id": "ce344a59",
   "metadata": {},
   "source": [
    "Для краулера используется chromedrive, поэтому он не запустится, если у вас на компьютере его нет."
   ]
  },
  {
   "cell_type": "markdown",
   "id": "389787dc",
   "metadata": {},
   "source": [
    "# 1. Получаем данные"
   ]
  },
  {
   "cell_type": "markdown",
   "id": "dab10cc9",
   "metadata": {},
   "source": [
    "Мне хотелось найти сайт, где будет много отрицательных отзывов, и у меня получилось! На https://otzovik.com/reviews/internet-sayt_www_avito_ru/ очень не любят Авито, поэтому негативных отзывов я там нашел намного больше, чем положительных"
   ]
  },
  {
   "cell_type": "markdown",
   "id": "b2166a66",
   "metadata": {},
   "source": [
    "## 1.1. Краулер для сайта https://otzovik.com с отзывами на Авито"
   ]
  },
  {
   "cell_type": "markdown",
   "id": "eafef0c5",
   "metadata": {},
   "source": [
    "Краулер на основе селениума"
   ]
  },
  {
   "cell_type": "code",
   "execution_count": 1,
   "id": "e7badef1",
   "metadata": {},
   "outputs": [],
   "source": [
    "from bs4 import BeautifulSoup\n",
    "import time\n",
    "from selenium import webdriver\n",
    "from selenium.webdriver.common.keys import Keys"
   ]
  },
  {
   "cell_type": "code",
   "execution_count": 2,
   "id": "85aa9319",
   "metadata": {},
   "outputs": [],
   "source": [
    "driver = webdriver.Chrome()"
   ]
  },
  {
   "cell_type": "code",
   "execution_count": 3,
   "id": "a583c536",
   "metadata": {},
   "outputs": [],
   "source": [
    "def parse_review(review): #парсинг отдельного отзыва\n",
    "    global positive #списки положительных и отрицательных отзывов соответственно\n",
    "    global negative\n",
    "    url_rev = 'https://otzovik.com' + review.attrs['href']  #ссылка на отзыв\n",
    "    req = driver.get(url_rev)\n",
    "    page = driver.page_source\n",
    "    if len(page) > 0:\n",
    "        soup = BeautifulSoup(page, 'html.parser')\n",
    "        full_text = soup.find('div', {'class': 'review-body description'}).text #текст отзыва\n",
    "        rating = soup.find('div', {'class': 'product-rating tooltip-right'}).attrs['title'][-1] #оценка\n",
    "        if int(rating) < 3: #если оценка выше 3, то отзыв считается положительным, если ниже -- отрицательным\n",
    "            negative.append(full_text)\n",
    "        if int(rating) > 3:\n",
    "            positive.append(full_text)"
   ]
  },
  {
   "cell_type": "code",
   "execution_count": 4,
   "id": "b5319ccb",
   "metadata": {},
   "outputs": [],
   "source": [
    "def parse_page(page_n): #парсинг страницы с отзывами\n",
    "    time.sleep(2)\n",
    "    url = f'https://otzovik.com/reviews/internet-sayt_www_avito_ru/{page_n}/'\n",
    "    req = driver.get(url)\n",
    "    page = driver.page_source\n",
    "    soup = BeautifulSoup(page, 'html.parser')\n",
    "    reviews = soup.find_all('a', {'class': 'review-btn review-read-link'}) #нахожу отдельные отзывы на странице\n",
    "    for review in reviews:\n",
    "        time.sleep(2)\n",
    "        parse_review(review) #отправляю отзыв на парсинг"
   ]
  },
  {
   "cell_type": "code",
   "execution_count": 9,
   "id": "b5c0ce11",
   "metadata": {
    "scrolled": true
   },
   "outputs": [
    {
     "ename": "AttributeError",
     "evalue": "'NoneType' object has no attribute 'text'",
     "output_type": "error",
     "traceback": [
      "\u001b[1;31m---------------------------------------------------------------------------\u001b[0m",
      "\u001b[1;31mAttributeError\u001b[0m                            Traceback (most recent call last)",
      "Input \u001b[1;32mIn [9]\u001b[0m, in \u001b[0;36m<cell line: 3>\u001b[1;34m()\u001b[0m\n\u001b[0;32m      2\u001b[0m negative \u001b[38;5;241m=\u001b[39m []\n\u001b[0;32m      3\u001b[0m \u001b[38;5;28;01mfor\u001b[39;00m i \u001b[38;5;129;01min\u001b[39;00m \u001b[38;5;28mrange\u001b[39m(\u001b[38;5;241m2\u001b[39m,\u001b[38;5;241m50\u001b[39m):\n\u001b[1;32m----> 4\u001b[0m     \u001b[43mparse_page\u001b[49m\u001b[43m(\u001b[49m\u001b[43mi\u001b[49m\u001b[43m)\u001b[49m\n",
      "Input \u001b[1;32mIn [4]\u001b[0m, in \u001b[0;36mparse_page\u001b[1;34m(page_n)\u001b[0m\n\u001b[0;32m      8\u001b[0m \u001b[38;5;28;01mfor\u001b[39;00m review \u001b[38;5;129;01min\u001b[39;00m reviews:\n\u001b[0;32m      9\u001b[0m     time\u001b[38;5;241m.\u001b[39msleep(\u001b[38;5;241m2\u001b[39m)\n\u001b[1;32m---> 10\u001b[0m     \u001b[43mparse_review\u001b[49m\u001b[43m(\u001b[49m\u001b[43mreview\u001b[49m\u001b[43m)\u001b[49m\n",
      "Input \u001b[1;32mIn [3]\u001b[0m, in \u001b[0;36mparse_review\u001b[1;34m(review)\u001b[0m\n\u001b[0;32m      7\u001b[0m \u001b[38;5;28;01mif\u001b[39;00m \u001b[38;5;28mlen\u001b[39m(page) \u001b[38;5;241m>\u001b[39m \u001b[38;5;241m0\u001b[39m:\n\u001b[0;32m      8\u001b[0m     soup \u001b[38;5;241m=\u001b[39m BeautifulSoup(page, \u001b[38;5;124m'\u001b[39m\u001b[38;5;124mhtml.parser\u001b[39m\u001b[38;5;124m'\u001b[39m)\n\u001b[1;32m----> 9\u001b[0m     full_text \u001b[38;5;241m=\u001b[39m \u001b[43msoup\u001b[49m\u001b[38;5;241;43m.\u001b[39;49m\u001b[43mfind\u001b[49m\u001b[43m(\u001b[49m\u001b[38;5;124;43m'\u001b[39;49m\u001b[38;5;124;43mdiv\u001b[39;49m\u001b[38;5;124;43m'\u001b[39;49m\u001b[43m,\u001b[49m\u001b[43m \u001b[49m\u001b[43m{\u001b[49m\u001b[38;5;124;43m'\u001b[39;49m\u001b[38;5;124;43mclass\u001b[39;49m\u001b[38;5;124;43m'\u001b[39;49m\u001b[43m:\u001b[49m\u001b[43m \u001b[49m\u001b[38;5;124;43m'\u001b[39;49m\u001b[38;5;124;43mreview-body description\u001b[39;49m\u001b[38;5;124;43m'\u001b[39;49m\u001b[43m}\u001b[49m\u001b[43m)\u001b[49m\u001b[38;5;241;43m.\u001b[39;49m\u001b[43mtext\u001b[49m\n\u001b[0;32m     10\u001b[0m     rating \u001b[38;5;241m=\u001b[39m soup\u001b[38;5;241m.\u001b[39mfind(\u001b[38;5;124m'\u001b[39m\u001b[38;5;124mdiv\u001b[39m\u001b[38;5;124m'\u001b[39m, {\u001b[38;5;124m'\u001b[39m\u001b[38;5;124mclass\u001b[39m\u001b[38;5;124m'\u001b[39m: \u001b[38;5;124m'\u001b[39m\u001b[38;5;124mproduct-rating tooltip-right\u001b[39m\u001b[38;5;124m'\u001b[39m})\u001b[38;5;241m.\u001b[39mattrs[\u001b[38;5;124m'\u001b[39m\u001b[38;5;124mtitle\u001b[39m\u001b[38;5;124m'\u001b[39m][\u001b[38;5;241m-\u001b[39m\u001b[38;5;241m1\u001b[39m]\n\u001b[0;32m     11\u001b[0m     \u001b[38;5;28;01mif\u001b[39;00m \u001b[38;5;28mint\u001b[39m(rating) \u001b[38;5;241m<\u001b[39m \u001b[38;5;241m3\u001b[39m:\n",
      "\u001b[1;31mAttributeError\u001b[0m: 'NoneType' object has no attribute 'text'"
     ]
    }
   ],
   "source": [
    "positive = []\n",
    "negative = []\n",
    "for i in range(2,50): #решаю распарсить страницы от 2 до 50\n",
    "    parse_page(i)"
   ]
  },
  {
   "cell_type": "markdown",
   "id": "bf824231",
   "metadata": {},
   "source": [
    "Мне закрыли доступ к сайту до того, как он распарсил 50 страниц("
   ]
  },
  {
   "cell_type": "code",
   "execution_count": 10,
   "id": "ef2ebb37",
   "metadata": {
    "scrolled": true
   },
   "outputs": [
    {
     "data": {
      "text/plain": [
       "95"
      ]
     },
     "execution_count": 10,
     "metadata": {},
     "output_type": "execute_result"
    }
   ],
   "source": [
    "len(positive)"
   ]
  },
  {
   "cell_type": "code",
   "execution_count": 11,
   "id": "9fc7ed0b",
   "metadata": {},
   "outputs": [
    {
     "data": {
      "text/plain": [
       "739"
      ]
     },
     "execution_count": 11,
     "metadata": {},
     "output_type": "execute_result"
    }
   ],
   "source": [
    "len(negative)"
   ]
  },
  {
   "cell_type": "markdown",
   "id": "c78ec6b1",
   "metadata": {},
   "source": [
    "Положительных отзывов намного меньше отрицательных, поэтому от отрицательных может быть полезно избавиться"
   ]
  },
  {
   "cell_type": "markdown",
   "id": "bafbb993",
   "metadata": {},
   "source": [
    "## 1.2. Записываю резулььтат в json"
   ]
  },
  {
   "cell_type": "code",
   "execution_count": 19,
   "id": "0d74fb93",
   "metadata": {},
   "outputs": [],
   "source": [
    "import json"
   ]
  },
  {
   "cell_type": "code",
   "execution_count": 15,
   "id": "0660afe2",
   "metadata": {},
   "outputs": [],
   "source": [
    "dct = {}\n",
    "dct['positive'] = positive\n",
    "dct['negative'] = negative"
   ]
  },
  {
   "cell_type": "code",
   "execution_count": 24,
   "id": "f195cd4f",
   "metadata": {},
   "outputs": [],
   "source": [
    "with open('reviews.json', 'w', encoding='utf-8') as f:\n",
    "    json.dump(dct, f, ensure_ascii=False, indent='\\t')"
   ]
  },
  {
   "cell_type": "markdown",
   "id": "7e6c3bd2",
   "metadata": {},
   "source": [
    "## 1.3. Вынимаю данные из json"
   ]
  },
  {
   "cell_type": "code",
   "execution_count": 2,
   "id": "f0a189be",
   "metadata": {},
   "outputs": [],
   "source": [
    "import json"
   ]
  },
  {
   "cell_type": "code",
   "execution_count": 3,
   "id": "e39f8a0c",
   "metadata": {},
   "outputs": [],
   "source": [
    "with open('reviews.json', 'r', encoding='utf-8') as f:\n",
    "    reviews = json.load(f)"
   ]
  },
  {
   "cell_type": "markdown",
   "id": "1c8b198f",
   "metadata": {},
   "source": [
    "# 2. Препроцессинг"
   ]
  },
  {
   "cell_type": "markdown",
   "id": "1c37db2e",
   "metadata": {},
   "source": [
    "## 2.0. Чищу отзывы"
   ]
  },
  {
   "cell_type": "markdown",
   "id": "64ea3d9f",
   "metadata": {},
   "source": [
    "Избавлюсь от слишком большого количества отрицательных отзывов"
   ]
  },
  {
   "cell_type": "code",
   "execution_count": 4,
   "id": "e7034d36",
   "metadata": {},
   "outputs": [],
   "source": [
    "import numpy as np\n",
    "import random"
   ]
  },
  {
   "cell_type": "code",
   "execution_count": 5,
   "id": "ff4ac348",
   "metadata": {},
   "outputs": [
    {
     "data": {
      "text/plain": [
       "1704.0526315789473"
      ]
     },
     "execution_count": 5,
     "metadata": {},
     "output_type": "execute_result"
    }
   ],
   "source": [
    "np.mean([len(i) for i in reviews['positive']])"
   ]
  },
  {
   "cell_type": "code",
   "execution_count": 6,
   "id": "19b82902",
   "metadata": {},
   "outputs": [],
   "source": [
    "len_neg = np.array([len(i) for i in reviews['negative']])"
   ]
  },
  {
   "cell_type": "code",
   "execution_count": 7,
   "id": "61f14013",
   "metadata": {},
   "outputs": [
    {
     "data": {
      "text/plain": [
       "1703.6056572379368"
      ]
     },
     "execution_count": 7,
     "metadata": {},
     "output_type": "execute_result"
    }
   ],
   "source": [
    "np.mean(len_neg[len_neg > 535])"
   ]
  },
  {
   "cell_type": "code",
   "execution_count": 8,
   "id": "0a58e13f",
   "metadata": {},
   "outputs": [
    {
     "data": {
      "text/plain": [
       "601"
      ]
     },
     "execution_count": 8,
     "metadata": {},
     "output_type": "execute_result"
    }
   ],
   "source": [
    "np.count_nonzero(len_neg[len_neg > 535])"
   ]
  },
  {
   "cell_type": "markdown",
   "id": "0b8e66e1",
   "metadata": {},
   "source": [
    "Решаю оставить 100 случайных отзывов длиннее 535 символов"
   ]
  },
  {
   "cell_type": "code",
   "execution_count": 9,
   "id": "4d3e9d9b",
   "metadata": {},
   "outputs": [],
   "source": [
    "random.seed(42)\n",
    "reviews['negative'] = random.choices(np.array(reviews['negative'])[len_neg > 535], k=100)"
   ]
  },
  {
   "cell_type": "markdown",
   "id": "412f937f",
   "metadata": {},
   "source": [
    "Формирую тестовую выборку из 5 отрицательных и 5 положительных отзывов"
   ]
  },
  {
   "cell_type": "code",
   "execution_count": 10,
   "id": "61c30e32",
   "metadata": {},
   "outputs": [],
   "source": [
    "test = reviews['negative'][-5:]\n",
    "reviews['negative'] = reviews['negative'][:-5]"
   ]
  },
  {
   "cell_type": "code",
   "execution_count": 11,
   "id": "23c8fd2e",
   "metadata": {},
   "outputs": [],
   "source": [
    "test.extend(reviews['positive'][-5:])\n",
    "reviews['positive'] = reviews['positive'][:-5]"
   ]
  },
  {
   "cell_type": "code",
   "execution_count": 12,
   "id": "d7f10d35",
   "metadata": {},
   "outputs": [],
   "source": [
    "y = [-1,-1,-1,-1,-1,1,1,1,1,1]"
   ]
  },
  {
   "cell_type": "markdown",
   "id": "f15b5edc",
   "metadata": {},
   "source": [
    "## 2.1. Токенизация и нижний регистр"
   ]
  },
  {
   "cell_type": "code",
   "execution_count": 13,
   "id": "0616f976",
   "metadata": {},
   "outputs": [],
   "source": [
    "from nltk.tokenize import casual_tokenize"
   ]
  },
  {
   "cell_type": "code",
   "execution_count": 14,
   "id": "51f84576",
   "metadata": {},
   "outputs": [],
   "source": [
    "neg_prep = []\n",
    "pos_prep = []\n",
    "for review in reviews['negative']:\n",
    "    neg_prep.append(casual_tokenize(review, preserve_case=False))\n",
    "for review in reviews['positive']:\n",
    "    pos_prep.append(casual_tokenize(review, preserve_case=False))"
   ]
  },
  {
   "cell_type": "markdown",
   "id": "20985db2",
   "metadata": {},
   "source": [
    "## 2.2. Начальная форма"
   ]
  },
  {
   "cell_type": "code",
   "execution_count": 15,
   "id": "8610fa9c",
   "metadata": {},
   "outputs": [],
   "source": [
    "from pymorphy3 import MorphAnalyzer"
   ]
  },
  {
   "cell_type": "code",
   "execution_count": 16,
   "id": "353c0d83",
   "metadata": {},
   "outputs": [],
   "source": [
    "morph = MorphAnalyzer(lang='ru')"
   ]
  },
  {
   "cell_type": "code",
   "execution_count": 17,
   "id": "47934a6e",
   "metadata": {},
   "outputs": [],
   "source": [
    "morph.parse('ghf')[0].tag.POS"
   ]
  },
  {
   "cell_type": "code",
   "execution_count": 18,
   "id": "cbd2745a",
   "metadata": {},
   "outputs": [],
   "source": [
    "neg_lemma = []\n",
    "pos_lemma = []\n",
    "for review in neg_prep:\n",
    "    rev_lemma = []\n",
    "    for word in review:\n",
    "        features = morph.parse(word)[0]\n",
    "        if not(features.tag.POS): #на этом моменте я избавляюсь от пунктуации и мусора\n",
    "            continue\n",
    "        rev_lemma.append(features.normal_form)\n",
    "    neg_lemma.append(rev_lemma)\n",
    "\n",
    "for review in pos_prep:\n",
    "    rev_lemma = []\n",
    "    for word in review:\n",
    "        features = morph.parse(word)[0]\n",
    "        if not(features.tag.POS):\n",
    "            continue\n",
    "        rev_lemma.append(features.normal_form)\n",
    "    pos_lemma.append(rev_lemma)"
   ]
  },
  {
   "cell_type": "markdown",
   "id": "b9e18949",
   "metadata": {},
   "source": [
    "# 3. Словари"
   ]
  },
  {
   "cell_type": "code",
   "execution_count": 19,
   "id": "1f06cd57",
   "metadata": {},
   "outputs": [],
   "source": [
    "from collections import Counter"
   ]
  },
  {
   "cell_type": "markdown",
   "id": "94340ef0",
   "metadata": {},
   "source": [
    "Создаю частотные словари для лемм из положительных и отрицательных отзывов"
   ]
  },
  {
   "cell_type": "code",
   "execution_count": 20,
   "id": "1d7ae1bc",
   "metadata": {},
   "outputs": [],
   "source": [
    "neg_count = Counter([word for review in neg_lemma for word in review])\n",
    "pos_count = Counter([word for review in pos_lemma for word in review])"
   ]
  },
  {
   "cell_type": "markdown",
   "id": "8fa9babf",
   "metadata": {},
   "source": [
    "Отдельно беру сами слова, отдельно значения для них, чтобы реализовать фильтр по значенниям"
   ]
  },
  {
   "cell_type": "code",
   "execution_count": 21,
   "id": "7df1b030",
   "metadata": {},
   "outputs": [],
   "source": [
    "neg_words = np.array([i for i in neg_count.keys()])\n",
    "neg_vals = np.array([i for i in neg_count.values()])\n",
    "pos_words = np.array([i for i in pos_count.keys()])\n",
    "pos_vals = np.array([i for i in pos_count.values()])"
   ]
  },
  {
   "cell_type": "markdown",
   "id": "b6ba18b5",
   "metadata": {},
   "source": [
    "Оставляю те слова, что встретились больше 4 раз"
   ]
  },
  {
   "cell_type": "code",
   "execution_count": 22,
   "id": "0e067d23",
   "metadata": {},
   "outputs": [],
   "source": [
    "neg_set = set(neg_words[neg_vals > 4])\n",
    "pos_set = set(pos_words[pos_vals > 4])"
   ]
  },
  {
   "cell_type": "markdown",
   "id": "6ad6f0a0",
   "metadata": {},
   "source": [
    "Создаю массивы со словами только из положительных отзывов и только из отрицательных"
   ]
  },
  {
   "cell_type": "code",
   "execution_count": 23,
   "id": "90e7a89b",
   "metadata": {},
   "outputs": [],
   "source": [
    "unique_neg = neg_set.difference(pos_set)\n",
    "unique_pos = pos_set.difference(neg_set)"
   ]
  },
  {
   "cell_type": "markdown",
   "id": "f78c6f54",
   "metadata": {},
   "source": [
    "# 4. Определитель тональности"
   ]
  },
  {
   "cell_type": "markdown",
   "id": "784608a1",
   "metadata": {},
   "source": [
    "## 4.1. Функция"
   ]
  },
  {
   "cell_type": "code",
   "execution_count": 24,
   "id": "ccaa1e77",
   "metadata": {},
   "outputs": [],
   "source": [
    "def tone_pred(texts, pos_set, neg_set):\n",
    "    y_pred = []\n",
    "    for text in texts:\n",
    "        val = 0\n",
    "        for token in casual_tokenize(text, preserve_case=False): #токенизирую отзыв, тональность которого угадывается\n",
    "            features = morph.parse(token)[0] \n",
    "            if not(features.tag.POS): #не учитываю пунктуацию и мусор\n",
    "                continue\n",
    "            lemma = features.normal_form #лемматиизирую\n",
    "            if lemma in pos_set: #если слово находится в положительном списке, то к оценке тональности прибавляю 1\n",
    "                val += 1\n",
    "            if lemma in neg_set: #если слово находится в отрицательном списке, то от оценки тональности отнимаю 1\n",
    "                val -= 1\n",
    "        if val > 0: #смотрю на знак оценки тональности и по нему делаю предсказание\n",
    "            y_pred.append(1)\n",
    "        if val < 0:\n",
    "            y_pred.append(-1)\n",
    "        if val == 0:\n",
    "            y_pred.append(0)\n",
    "    return(y_pred)"
   ]
  },
  {
   "cell_type": "markdown",
   "id": "7b91d50f",
   "metadata": {},
   "source": [
    "## 4.2. Accuracy"
   ]
  },
  {
   "cell_type": "code",
   "execution_count": 25,
   "id": "4fbca053",
   "metadata": {},
   "outputs": [],
   "source": [
    "from sklearn.metrics import accuracy_score"
   ]
  },
  {
   "cell_type": "code",
   "execution_count": 26,
   "id": "c431eef8",
   "metadata": {},
   "outputs": [
    {
     "data": {
      "text/plain": [
       "0.7"
      ]
     },
     "execution_count": 26,
     "metadata": {},
     "output_type": "execute_result"
    }
   ],
   "source": [
    "accuracy_score(y, tone_pred(test, unique_pos, unique_neg))"
   ]
  },
  {
   "cell_type": "markdown",
   "id": "e2a71d9a",
   "metadata": {},
   "source": [
    "# 5. Улучшения"
   ]
  },
  {
   "cell_type": "markdown",
   "id": "2dc3bc67",
   "metadata": {},
   "source": [
    "1. Можно избавиться от стоп-слов\n",
    "2. Можно ранжировать характерные слова и чем чаще встречается то или иное слово, тем больший вклад в ответ оно вносит"
   ]
  },
  {
   "cell_type": "markdown",
   "id": "6d07b592",
   "metadata": {},
   "source": [
    "Реализую и то, и другое"
   ]
  },
  {
   "cell_type": "code",
   "execution_count": 27,
   "id": "7bb41295",
   "metadata": {},
   "outputs": [
    {
     "name": "stderr",
     "output_type": "stream",
     "text": [
      "[nltk_data] Downloading package stopwords to\n",
      "[nltk_data]     C:\\Users\\Vito\\AppData\\Roaming\\nltk_data...\n",
      "[nltk_data]   Package stopwords is already up-to-date!\n"
     ]
    },
    {
     "data": {
      "text/plain": [
       "True"
      ]
     },
     "execution_count": 27,
     "metadata": {},
     "output_type": "execute_result"
    }
   ],
   "source": [
    "from nltk.corpus import stopwords\n",
    "import nltk\n",
    "nltk.download('stopwords')"
   ]
  },
  {
   "cell_type": "markdown",
   "id": "a622bb8a",
   "metadata": {},
   "source": [
    "Загружаю список стоп-слов"
   ]
  },
  {
   "cell_type": "code",
   "execution_count": 28,
   "id": "2d5bf7b7",
   "metadata": {},
   "outputs": [],
   "source": [
    "stop_words = stopwords.words('russian')"
   ]
  },
  {
   "cell_type": "markdown",
   "id": "b1abe35c",
   "metadata": {},
   "source": [
    "Сортирую по убыванию слова из отрицательных и положительных отзывов для их дальнейшего ранжирования"
   ]
  },
  {
   "cell_type": "code",
   "execution_count": 29,
   "id": "a2730d98",
   "metadata": {},
   "outputs": [],
   "source": [
    "neg_sorted = sorted(neg_count, key=neg_count.get, reverse=True)\n",
    "pos_sorted = sorted(pos_count, key=pos_count.get, reverse=True)"
   ]
  },
  {
   "cell_type": "markdown",
   "id": "8adec689",
   "metadata": {},
   "source": [
    "Удаляю слова из списка стоп-слов"
   ]
  },
  {
   "cell_type": "code",
   "execution_count": 30,
   "id": "488a77ae",
   "metadata": {},
   "outputs": [],
   "source": [
    "for word in neg_sorted:\n",
    "    if word in stop_words:\n",
    "        neg_sorted.remove(word)\n",
    "for word in pos_sorted:\n",
    "    if word in stop_words:\n",
    "        pos_sorted.remove(word)"
   ]
  },
  {
   "cell_type": "markdown",
   "id": "e0c5769c",
   "metadata": {},
   "source": [
    "Присваиваю ранги словам так, чтобы у слов с одинаковой встречаемостью ранг был одинаковым"
   ]
  },
  {
   "cell_type": "code",
   "execution_count": 31,
   "id": "d4086c2c",
   "metadata": {},
   "outputs": [],
   "source": [
    "neg_ranged = {}\n",
    "pos_ranged = {}"
   ]
  },
  {
   "cell_type": "code",
   "execution_count": 32,
   "id": "bac80960",
   "metadata": {},
   "outputs": [],
   "source": [
    "for i in range(len(neg_sorted)):\n",
    "    if i == 0:\n",
    "        neg_ranged[neg_sorted[i]] = 1 #у первого слова ранг 1\n",
    "    else:\n",
    "        if neg_count[neg_sorted[i]] == neg_count[neg_sorted[i-1]]:\n",
    "            #если слово встретилось столько же раз, сколько и слово до, то ранг одинаковый\n",
    "            neg_ranged[neg_sorted[i]] = neg_ranged[neg_sorted[i-1]]\n",
    "        else:\n",
    "            #если нет, то есть втретилось меньше, то ранг увеличивается на 1\n",
    "            neg_ranged[neg_sorted[i]] = neg_ranged[neg_sorted[i-1]] + 1\n",
    "    if neg_count[neg_sorted[i]] < 5:\n",
    "        #если появляются слова, которые встретились меньше 5 раз, то останавливаемся\n",
    "        break"
   ]
  },
  {
   "cell_type": "markdown",
   "id": "fd8489cf",
   "metadata": {},
   "source": [
    "То же повторяем для слов из положительных отзывов:"
   ]
  },
  {
   "cell_type": "code",
   "execution_count": 33,
   "id": "2060d01f",
   "metadata": {},
   "outputs": [],
   "source": [
    "for i in range(len(pos_sorted)):\n",
    "    if i == 0:\n",
    "        pos_ranged[pos_sorted[i]] = 1\n",
    "    else:\n",
    "        if pos_count[pos_sorted[i]] == pos_count[pos_sorted[i-1]]:\n",
    "            pos_ranged[pos_sorted[i]] = pos_ranged[pos_sorted[i-1]]\n",
    "        else:\n",
    "            pos_ranged[pos_sorted[i]] = pos_ranged[pos_sorted[i-1]] + 1\n",
    "    if pos_count[pos_sorted[i]] < 5:\n",
    "        break"
   ]
  },
  {
   "cell_type": "markdown",
   "id": "5945bb1d",
   "metadata": {},
   "source": [
    "Теперь приписываем словам веса: вес = 0.9 ^ ранг (я просто взял удобную убывающую функцию)"
   ]
  },
  {
   "cell_type": "code",
   "execution_count": 34,
   "id": "8b2fe91c",
   "metadata": {},
   "outputs": [],
   "source": [
    "neg_weights = {}\n",
    "pos_weights = {}"
   ]
  },
  {
   "cell_type": "code",
   "execution_count": 35,
   "id": "b1487e0f",
   "metadata": {},
   "outputs": [],
   "source": [
    "for word, rank in neg_ranged.items():\n",
    "    neg_weights[word] = 0.9**rank"
   ]
  },
  {
   "cell_type": "code",
   "execution_count": 36,
   "id": "4ac17bbf",
   "metadata": {},
   "outputs": [],
   "source": [
    "for word, rank in pos_ranged.items():\n",
    "    pos_weights[word] = 0.9**rank"
   ]
  },
  {
   "cell_type": "markdown",
   "id": "c25e057e",
   "metadata": {},
   "source": [
    "Переписываю функцию"
   ]
  },
  {
   "cell_type": "code",
   "execution_count": 37,
   "id": "627bef8e",
   "metadata": {},
   "outputs": [],
   "source": [
    "def tone_pred(texts, pos_set, neg_set):\n",
    "    y_pred = []\n",
    "    for text in texts:\n",
    "        val = 0\n",
    "        for token in casual_tokenize(text, preserve_case=False):\n",
    "            features = morph.parse(token)[0]\n",
    "            if not(features.tag.POS):\n",
    "                continue\n",
    "            lemma = features.normal_form\n",
    "            if lemma in pos_set.keys():\n",
    "                val += pos_set[lemma] #для слов из положительного списка -- прибавляю его вес\n",
    "            if lemma in neg_set.keys():\n",
    "                val -= neg_set[lemma] #для слова из отрицательного -- отнимаю\n",
    "        if val > 0:\n",
    "            y_pred.append(1)\n",
    "        if val < 0:\n",
    "            y_pred.append(-1)\n",
    "        if val == 0:\n",
    "            y_pred.append(0)\n",
    "    return(y_pred)"
   ]
  },
  {
   "cell_type": "code",
   "execution_count": 38,
   "id": "ab06be7e",
   "metadata": {},
   "outputs": [
    {
     "data": {
      "text/plain": [
       "0.4"
      ]
     },
     "execution_count": 38,
     "metadata": {},
     "output_type": "execute_result"
    }
   ],
   "source": [
    "accuracy_score(y, tone_pred(test, pos_weights, neg_weights))"
   ]
  },
  {
   "cell_type": "markdown",
   "id": "b26aa7bb",
   "metadata": {},
   "source": [
    "Что ж, результат стал хуже, но я пытался"
   ]
  }
 ],
 "metadata": {
  "kernelspec": {
   "display_name": "Python 3 (ipykernel)",
   "language": "python",
   "name": "python3"
  },
  "language_info": {
   "codemirror_mode": {
    "name": "ipython",
    "version": 3
   },
   "file_extension": ".py",
   "mimetype": "text/x-python",
   "name": "python",
   "nbconvert_exporter": "python",
   "pygments_lexer": "ipython3",
   "version": "3.9.12"
  }
 },
 "nbformat": 4,
 "nbformat_minor": 5
}
